{
 "cells": [
  {
   "cell_type": "code",
   "execution_count": 1,
   "metadata": {
    "collapsed": false
   },
   "outputs": [
   ],
   "source": [
    "import pandas as pd\n",
    "import csv"
   ]
  },
  {
   "cell_type": "code",
   "execution_count": 2,
   "metadata": {
    "collapsed": false
   },
   "outputs": [
   ],
   "source": [
    "# Lo que vamos a hacer es acomodar las columnas para que cada línea contenga el mismo número de columnas en este caso el alrchivo se encuentra dañado\n",
    "# Por lo que se asume algunas cabeceras, para probar el archivo\n",
    "rows = []\n",
    "csv_header = ['id', 'hip', 'hr', 'gl', 'lum','var','var_min','var_max']\n",
    "frame_header = ['id', 'hip', 'hr', 'gl', 'lum','var','var_min','var_max']\n"
   ]
  },
  {
   "cell_type": "code",
   "execution_count": 3,
   "metadata": {
    "collapsed": false
   },
   "outputs": [
    {
     "name": "stdout",
     "output_type": "stream",
     "text": [
      "                                                       id   hip    hr    gl  \\\n",
      "0       0,,,,,,Sol,0,0,0,0,0,0,-26.7,4.85,G2V,0.656,0....  None  None  None   \n",
      "1       1,1,224700,,,,,0.00006,1.089009,219.7802,-5.2,...  None  None  None   \n",
      "2       2,2,224690,,,,,0.000283,-19.49884,47.9616,181....  None  None  None   \n",
      "3       3,3,224699,,,,,0.000335,38.859279,442.4779,5.2...  None  None  None   \n",
      "4       4,4,224707,,,,,0.000569,-51.893546,134.2282,62...  None  None  None   \n",
      "...                                                   ...   ...   ...   ...   \n",
      "119610  119612\\t\\t\\t\\tNN 4385\\t\\t\\t23.996567\\t47.76209...  None  None  None   \n",
      "119611  119613\\t\\t\\t\\tNN 4386\\t\\t\\t23.996218\\t-44.0679...  None  None  None   \n",
      "119612  119614\\t\\t\\t\\tNN 4387\\t\\t\\t23.997386\\t-34.1119...  None  None  None   \n",
      "119613  119615\\t\\t\\t\\tGl 915\\t\\t\\t0.036059\\t-43.165974...  None  None  None   \n",
      "119614  Delete me! o_________________o,,,,,,,,,,,,,,,,...  None  None  None   \n",
      "\n",
      "         lum   var var_min var_max  \n",
      "0       None  None    None          \n",
      "1       None  None    None          \n",
      "2       None  None    None          \n",
      "3       None  None    None          \n",
      "4       None  None    None          \n",
      "...      ...   ...     ...     ...  \n",
      "119610  None  None    None          \n",
      "119611  None  None    None          \n",
      "119612  None  None    None          \n",
      "119613  None  None    None          \n",
      "119614  None  None    None          \n",
      "\n",
      "[119615 rows x 8 columns]\n"
     ]
    }
   ],
   "source": [
    "# Con DictReader nosotros vamos a poder acceder a la cabecera, lo que se hará es recorrer nuestros campos, si hay un dato que falta\n",
    "#Insertaremos un dato de la cabecera para que así cada línea contenga el mismo número de columnas y se pueda leer el archivo\n",
    "with open('starts_data_updated.csv', 'r') as f_input:\n",
    "    for row in csv.DictReader(f_input, delimiter='|', fieldnames=csv_header[:-1], restkey=csv_header[-1], quotechar='\"', doublequote=True, skipinitialspace=True):\n",
    "        try:\n",
    "            rows.append([row['id'], row['hip'], row['hr'], row['gl'], row['lum'], row['var'],row['var_min'], ' '.join(row['var_max'])])\n",
    "        except KeyError as e:\n",
    "            rows.append([row['id'], row['hip'], row['hr'], row['gl'],row['lum'],row['var'], row['var_min'], ' '])\n",
    "frame = pd.DataFrame(rows, columns=frame_header)\n",
    "print (frame)"
   ]
  },
  {
   "cell_type": "code",
   "execution_count": 4,
   "metadata": {
    "collapsed": false
   },
   "outputs": [
   ],
   "source": [
    "frame.to_csv('starts_data_encoding.csv', encoding='utf-8',quotechar='\"',doublequote=True, sep = '|')"
   ]
  },
  {
   "cell_type": "code",
   "execution_count": 5,
   "metadata": {
    "collapsed": false
   },
   "outputs": [
   ],
   "source": [
    "df = pd.read_csv ('starts_data_encoding.csv')"
   ]
  },
  {
   "cell_type": "code",
   "execution_count": 6,
   "metadata": {
    "collapsed": false
   },
   "outputs": [
    {
     "name": "stdout",
     "output_type": "stream",
     "text": [
      "                                                                                                                                                                                                                                                                                                                        |id|hip|hr|gl|lum|var|var_min|var_max\n",
      "0|0                                                NaN NaN      NaN NaN NaN Sol 0.000000  0.000000  0.0000    0.00    0.00 0.0 -26.70  4.850 G2V  0.656 0.000005   0.000000  0.000000    0.000000e+00  0.000000  0.000000e+00 0.000000  0.000000  0.000000e+00  0.000000e+00 NaN NaN NaN 1.0 0.0 NaN 1.000000   NaN NaN                              ||||||| \n",
      "1|1                                                1.0 224700.0 NaN NaN NaN NaN 0.000060  1.089009  219.7802 -5.20   -1.88 0.0  9.10   2.390 F5   0.482 219.740502 0.003449  4.177065    4.000000e-08 -0.000006 -2.000000e-06 0.000016  0.019007 -2.521030e-08 -9.114500e-09 NaN NaN Psc 1.0 1.0 NaN 9.638290   NaN NaN                              ||||||| \n",
      "2|2                                                2.0 224690.0 NaN NaN NaN NaN 0.000283 -19.498840 47.9616   181.21 -0.93 0.0  9.27   5.866 K3V  0.999 45.210918  0.003365 -16.008996  -7.000000e-08  0.000042 -2.000000e-07 0.000074 -0.340319  8.785310e-07 -4.508770e-09 NaN NaN Cet 1.0 2.0 NaN 0.392283   NaN NaN                              ||||||| \n",
      "3|3                                                3.0 224699.0 NaN NaN NaN NaN 0.000335  38.859279 442.4779  5.24   -2.91 0.0  6.61  -1.619 B9  -0.019 344.552785 0.030213  277.614965  3.920000e-06  0.000011 -4.860000e-06 0.000088  0.678222  2.540420e-08 -1.410810e-08 NaN NaN And 1.0 3.0 NaN 386.901132 NaN NaN                              ||||||| \n",
      "4|4                                                4.0 224707.0 NaN NaN NaN NaN 0.000569 -51.893546 134.2282  62.85   0.16 0.0  8.06   2.421 F0V  0.370 82.835513  0.012476 -105.619540  8.000000e-08  0.000041  6.000000e-08 0.000149 -0.905713  3.047050e-07  7.757010e-10 NaN NaN Phe 1.0 4.0 NaN 9.366989   NaN NaN                              ||||||| \n",
      "...                                                                                                                                                                                                                                                                                                                                                       ...\n",
      "119610|119612\\t\\t\\t\\tNN 4385\\t\\t\\t23.996567\\t47... NaN NaN      NaN NaN NaN NaN NaN      NaN        NaN      NaN     NaN   NaN NaN    NaN    NaN NaN    NaN        NaN      NaN         NaN           NaN       NaN           NaN      NaN       NaN           NaN           NaN NaN NaN NaN NaN NaN NaN        NaN NaN                              ||||||| \n",
      "119611|119613\\t\\t\\t\\tNN 4386\\t\\t\\t23.996218\\t-4... NaN NaN      NaN NaN NaN NaN NaN      NaN        NaN      NaN     NaN   NaN NaN    NaN    NaN NaN    NaN        NaN      NaN         NaN           NaN       NaN           NaN      NaN       NaN           NaN           NaN NaN NaN NaN NaN NaN NaN        NaN NaN                              ||||||| \n",
      "119612|119614\\t\\t\\t\\tNN 4387\\t\\t\\t23.997386\\t-3... NaN NaN      NaN NaN NaN NaN NaN      NaN        NaN      NaN     NaN   NaN NaN    NaN    NaN NaN    NaN        NaN      NaN         NaN           NaN       NaN           NaN      NaN       NaN           NaN           NaN NaN NaN NaN NaN NaN NaN        NaN NaN                              ||||||| \n",
      "119613|119615\\t\\t\\t\\tGl 915\\t\\t\\t0.036059\\t-43.... NaN NaN      NaN NaN NaN NaN NaN      NaN        NaN      NaN     NaN   NaN NaN    NaN    NaN NaN    NaN        NaN      NaN         NaN           NaN       NaN           NaN      NaN       NaN           NaN           NaN NaN NaN NaN NaN NaN NaN        NaN NaN                              ||||||| \n",
      "119614|Delete me! o_________________o              NaN NaN      NaN NaN NaN NaN NaN      NaN        NaN      NaN     NaN   NaN NaN    NaN    NaN NaN    NaN        NaN      NaN         NaN           NaN       NaN           NaN      NaN       NaN           NaN           NaN NaN NaN NaN NaN NaN NaN        NaN NaN                              ||||||| \n",
      "\n",
      "[119615 rows x 1 columns]\n"
     ]
    }
   ],
   "source": [
    "print(df)"
   ]
  },
  {
   "cell_type": "code",
   "execution_count": 0,
   "metadata": {
    "collapsed": false,
    "scrolled": true
   },
   "outputs": [
   ],
   "source": [
    "with open('starts_data_encoding.csv', 'rt') as f:\n",
    "    # same as csv_reader = csv.reader(f, skipinitialspace=True)\n",
    "    csv_reader = csv.reader(f, skipinitialspace=True,quotechar='\"',doublequote=True)\n",
    "    \n",
    "    for line in csv_reader:\n",
    "        print(line)\n",
    "\n",
    "    \n",
    "        \n"
   ]
  },
  {
   "cell_type": "code",
   "execution_count": 13,
   "metadata": {
    "collapsed": false
   },
   "outputs": [
   ],
   "source": [
    "#Para el delimitador utilizamos funciones que contiene la librería de csv y este archivo lo haremos en psv\n",
    "with open('starts_data_encoding.csv', 'r') as infile, open('starts_data_with_quote.psv', 'w',encoding='utf-8') as outfile:\n",
    "    reader = csv.reader(infile)\n",
    "    writer = csv.writer(outfile,quoting=csv.QUOTE_ALL,escapechar='|',delimiter =\"|\")\n",
    "    writer.writerows(reader)\n",
    "    "
   ]
  },
  {
   "cell_type": "code",
   "execution_count": 0,
   "metadata": {
    "collapsed": false,
    "scrolled": true
   },
   "outputs": [
   ],
   "source": [
    "#Para el delimitador utilizamos funciones que contiene la librería de csv y este archivo lo haremos en csv\n",
    "with open('starts_data_encoding.csv', 'r') as infile, open('starts_data_with_quote.csv', 'w',encoding='utf-8') as outfile:\n",
    "    reader = csv.reader(infile)\n",
    "    writer = csv.writer(outfile,quoting=csv.QUOTE_ALL,escapechar='|',delimiter =\"|\")\n",
    "    writer.writerows(reader)"
   ]
  },
  {
   "cell_type": "code",
   "execution_count": 14,
   "metadata": {
    "collapsed": false
   },
   "outputs": [
   ],
   "source": [
    "df2 = pd.read_csv ('starts_data_with_quote.csv')"
   ]
  },
  {
   "cell_type": "code",
   "execution_count": 15,
   "metadata": {
    "collapsed": false
   },
   "outputs": [
    {
     "name": "stdout",
     "output_type": "stream",
     "text": [
      "                    |id|hip|hr|gl|lum|var|var_min|var_max\n",
      "0       0|0|\"\"|\"\"|\"\"|\"\"|\"\"|\"Sol\"|\"0\"|\"0\"|\"0\"|\"0\"|\"0\"|\"...\n",
      "1       1|1|\"1\"|\"224700\"|\"\"|\"\"|\"\"|\"\"|\"0.00006\"|\"1.0890...\n",
      "2       2|2|\"2\"|\"224690\"|\"\"|\"\"|\"\"|\"\"|\"0.000283\"|\"-19.4...\n",
      "3       3|3|\"3\"|\"224699\"|\"\"|\"\"|\"\"|\"\"|\"0.000335\"|\"38.85...\n",
      "4       4|4|\"4\"|\"224707\"|\"\"|\"\"|\"\"|\"\"|\"0.000569\"|\"-51.8...\n",
      "...                                                   ...\n",
      "119610  119610|119612\\t\\t\\t\\tNN 4385\\t\\t\\t23.996567\\t4...\n",
      "119611  119611|119613\\t\\t\\t\\tNN 4386\\t\\t\\t23.996218\\t-...\n",
      "119612  119612|119614\\t\\t\\t\\tNN 4387\\t\\t\\t23.997386\\t-...\n",
      "119613  119613|119615\\t\\t\\t\\tGl 915\\t\\t\\t0.036059\\t-43...\n",
      "119614  119614|Delete me! o_________________o|\"\"|\"\"|\"\"...\n",
      "\n",
      "[119615 rows x 1 columns]\n"
     ]
    }
   ],
   "source": [
    "print(df2)"
   ]
  },
  {
   "cell_type": "code",
   "execution_count": 0,
   "metadata": {
    "collapsed": false
   },
   "outputs": [
   ],
   "source": [
   ]
  }
 ],
 "metadata": {
  "kernelspec": {
   "display_name": "Python 3 (system-wide)",
   "language": "python",
   "metadata": {
    "cocalc": {
     "description": "Python 3 programming language",
     "priority": 100,
     "url": "https://www.python.org/"
    }
   },
   "name": "python3",
   "resource_dir": "/ext/jupyter/kernels/python3"
  },
  "language_info": {
   "codemirror_mode": {
    "name": "ipython",
    "version": 3
   },
   "file_extension": ".py",
   "mimetype": "text/x-python",
   "name": "python",
   "nbconvert_exporter": "python",
   "pygments_lexer": "ipython3",
   "version": "3.8.5"
  }
 },
 "nbformat": 4,
 "nbformat_minor": 4
}